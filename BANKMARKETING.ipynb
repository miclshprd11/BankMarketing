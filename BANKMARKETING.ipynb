{
 "cells": [
  {
   "cell_type": "markdown",
   "id": "aa463e63",
   "metadata": {},
   "source": [
    "# Bank Marketing Campaighn, Classification Task"
   ]
  },
  {
   "cell_type": "code",
   "execution_count": 1,
   "id": "a3b11fae",
   "metadata": {},
   "outputs": [],
   "source": [
    "import pandas as pd\n",
    "import numpy as np\n",
    "import matplotlib.pyplot as plt\n",
    "from sklearn.preprocessing import StandardScaler, OneHotEncoder\n",
    "from sklearn.pipeline import Pipeline\n",
    "from sklearn.compose import make_column_transformer\n",
    "from sklearn.neighbors import KNeighborsClassifier\n",
    "from sklearn.model_selection import train_test_split\n",
    "from sklearn.compose import make_column_selector, make_column_transformer\n",
    "from sklearn.preprocessing import OneHotEncoder, StandardScaler, PolynomialFeatures\n",
    "from sklearn.linear_model import LogisticRegression\n",
    "from sklearn.feature_selection import SelectFromModel\n",
    "from sklearn.pipeline import Pipeline\n",
    "from sklearn.model_selection import train_test_split, GridSearchCV\n",
    "from sklearn.metrics import ConfusionMatrixDisplay, RocCurveDisplay\n",
    "from sklearn.metrics import recall_score, confusion_matrix\n",
    "from sklearn.svm import SVC\n",
    "from sklearn.model_selection import train_test_split, GridSearchCV, RandomizedSearchCV\n",
    "from sklearn.tree import DecisionTreeClassifier, export_text, plot_tree\n",
    "from sklearn.metrics import recall_score\n",
    "import time"
   ]
  },
  {
   "cell_type": "markdown",
   "id": "b5a96aa2",
   "metadata": {},
   "source": [
    "# Load and clean the data"
   ]
  },
  {
   "cell_type": "code",
   "execution_count": 2,
   "id": "aae434c2",
   "metadata": {},
   "outputs": [],
   "source": [
    "bank = pd.read_csv(\"C:/Users/micls/OneDrive/Desktop/UC Berkelely AI CLASS/data/bankDATA.csv\")"
   ]
  },
  {
   "cell_type": "code",
   "execution_count": 3,
   "id": "975a3f71",
   "metadata": {},
   "outputs": [
    {
     "data": {
      "text/html": [
       "<div>\n",
       "<style scoped>\n",
       "    .dataframe tbody tr th:only-of-type {\n",
       "        vertical-align: middle;\n",
       "    }\n",
       "\n",
       "    .dataframe tbody tr th {\n",
       "        vertical-align: top;\n",
       "    }\n",
       "\n",
       "    .dataframe thead th {\n",
       "        text-align: right;\n",
       "    }\n",
       "</style>\n",
       "<table border=\"1\" class=\"dataframe\">\n",
       "  <thead>\n",
       "    <tr style=\"text-align: right;\">\n",
       "      <th></th>\n",
       "      <th>age</th>\n",
       "      <th>job</th>\n",
       "      <th>marital</th>\n",
       "      <th>education</th>\n",
       "      <th>default</th>\n",
       "      <th>balance</th>\n",
       "      <th>housing</th>\n",
       "      <th>loan</th>\n",
       "      <th>contact</th>\n",
       "      <th>day</th>\n",
       "      <th>month</th>\n",
       "      <th>duration</th>\n",
       "      <th>campaign</th>\n",
       "      <th>pdays</th>\n",
       "      <th>previous</th>\n",
       "      <th>poutcome</th>\n",
       "      <th>y</th>\n",
       "    </tr>\n",
       "  </thead>\n",
       "  <tbody>\n",
       "    <tr>\n",
       "      <th>0</th>\n",
       "      <td>30</td>\n",
       "      <td>unemployed</td>\n",
       "      <td>married</td>\n",
       "      <td>primary</td>\n",
       "      <td>no</td>\n",
       "      <td>1787</td>\n",
       "      <td>no</td>\n",
       "      <td>no</td>\n",
       "      <td>cellular</td>\n",
       "      <td>19</td>\n",
       "      <td>oct</td>\n",
       "      <td>79</td>\n",
       "      <td>1</td>\n",
       "      <td>-1</td>\n",
       "      <td>0</td>\n",
       "      <td>unknown</td>\n",
       "      <td>no</td>\n",
       "    </tr>\n",
       "    <tr>\n",
       "      <th>1</th>\n",
       "      <td>33</td>\n",
       "      <td>services</td>\n",
       "      <td>married</td>\n",
       "      <td>secondary</td>\n",
       "      <td>no</td>\n",
       "      <td>4789</td>\n",
       "      <td>yes</td>\n",
       "      <td>yes</td>\n",
       "      <td>cellular</td>\n",
       "      <td>11</td>\n",
       "      <td>may</td>\n",
       "      <td>220</td>\n",
       "      <td>1</td>\n",
       "      <td>339</td>\n",
       "      <td>4</td>\n",
       "      <td>failure</td>\n",
       "      <td>no</td>\n",
       "    </tr>\n",
       "    <tr>\n",
       "      <th>2</th>\n",
       "      <td>35</td>\n",
       "      <td>management</td>\n",
       "      <td>single</td>\n",
       "      <td>tertiary</td>\n",
       "      <td>no</td>\n",
       "      <td>1350</td>\n",
       "      <td>yes</td>\n",
       "      <td>no</td>\n",
       "      <td>cellular</td>\n",
       "      <td>16</td>\n",
       "      <td>apr</td>\n",
       "      <td>185</td>\n",
       "      <td>1</td>\n",
       "      <td>330</td>\n",
       "      <td>1</td>\n",
       "      <td>failure</td>\n",
       "      <td>no</td>\n",
       "    </tr>\n",
       "  </tbody>\n",
       "</table>\n",
       "</div>"
      ],
      "text/plain": [
       "   age         job  marital  education default  balance housing loan  \\\n",
       "0   30  unemployed  married    primary      no     1787      no   no   \n",
       "1   33    services  married  secondary      no     4789     yes  yes   \n",
       "2   35  management   single   tertiary      no     1350     yes   no   \n",
       "\n",
       "    contact  day month  duration  campaign  pdays  previous poutcome   y  \n",
       "0  cellular   19   oct        79         1     -1         0  unknown  no  \n",
       "1  cellular   11   may       220         1    339         4  failure  no  \n",
       "2  cellular   16   apr       185         1    330         1  failure  no  "
      ]
     },
     "execution_count": 3,
     "metadata": {},
     "output_type": "execute_result"
    }
   ],
   "source": [
    "bank.head(3)"
   ]
  },
  {
   "cell_type": "code",
   "execution_count": 4,
   "id": "5ac27fa7",
   "metadata": {},
   "outputs": [],
   "source": [
    "#DROP UNKNOWN job,education,contact col, poutcome col \n",
    "#OHE default,education  \n",
    "#BINARY housing, loan ,y, default \n",
    "#quantify month, education  "
   ]
  },
  {
   "cell_type": "code",
   "execution_count": 5,
   "id": "84c85a0c",
   "metadata": {},
   "outputs": [],
   "source": [
    "bank = bank.drop('contact', axis = 1)\n",
    "bank = bank.drop('poutcome', axis = 1)"
   ]
  },
  {
   "cell_type": "code",
   "execution_count": 6,
   "id": "083c09ff",
   "metadata": {},
   "outputs": [],
   "source": [
    "bank = bank[bank.job != 'unknown']\n",
    "bank = bank[bank.education != 'unknown']"
   ]
  },
  {
   "cell_type": "code",
   "execution_count": 7,
   "id": "00f70689",
   "metadata": {},
   "outputs": [],
   "source": [
    "d = {'jan':1, 'feb':2, 'mar':3, 'apr':4,'may':5,'jun':6,'jul':7,'aug':8,'sep':9,'oct':10,'nov':11,'dec':12}\n",
    "bank.month = bank.month.map(d)\n",
    "d = {'primary':1,'secondary':2,'tertiary':3}\n",
    "bank.education = bank.education.map(d)"
   ]
  },
  {
   "cell_type": "code",
   "execution_count": 8,
   "id": "cb73c17e",
   "metadata": {},
   "outputs": [],
   "source": [
    "d = {'no':0,'yes':1}\n",
    "bank.default = bank.default.map(d)\n",
    "bank.housing = bank.housing.map(d)\n",
    "bank.loan = bank.loan.map(d)\n",
    "bank.y = bank.y.map(d)"
   ]
  },
  {
   "cell_type": "code",
   "execution_count": 9,
   "id": "08b8663c",
   "metadata": {},
   "outputs": [],
   "source": [
    "dummies = pd.get_dummies(bank['job'])\n",
    "bank = pd.concat([bank, dummies], axis=1)\n",
    "dummies = pd.get_dummies(bank['marital'])\n",
    "bank = pd.concat([bank,dummies],axis =1)\n",
    "bank = bank.drop(['job','marital'],axis =1)"
   ]
  },
  {
   "cell_type": "code",
   "execution_count": 10,
   "id": "36674a14",
   "metadata": {},
   "outputs": [
    {
     "data": {
      "text/html": [
       "<div>\n",
       "<style scoped>\n",
       "    .dataframe tbody tr th:only-of-type {\n",
       "        vertical-align: middle;\n",
       "    }\n",
       "\n",
       "    .dataframe tbody tr th {\n",
       "        vertical-align: top;\n",
       "    }\n",
       "\n",
       "    .dataframe thead th {\n",
       "        text-align: right;\n",
       "    }\n",
       "</style>\n",
       "<table border=\"1\" class=\"dataframe\">\n",
       "  <thead>\n",
       "    <tr style=\"text-align: right;\">\n",
       "      <th></th>\n",
       "      <th>age</th>\n",
       "      <th>education</th>\n",
       "      <th>default</th>\n",
       "      <th>balance</th>\n",
       "      <th>housing</th>\n",
       "      <th>loan</th>\n",
       "      <th>day</th>\n",
       "      <th>month</th>\n",
       "      <th>duration</th>\n",
       "      <th>campaign</th>\n",
       "      <th>...</th>\n",
       "      <th>management</th>\n",
       "      <th>retired</th>\n",
       "      <th>self-employed</th>\n",
       "      <th>services</th>\n",
       "      <th>student</th>\n",
       "      <th>technician</th>\n",
       "      <th>unemployed</th>\n",
       "      <th>divorced</th>\n",
       "      <th>married</th>\n",
       "      <th>single</th>\n",
       "    </tr>\n",
       "  </thead>\n",
       "  <tbody>\n",
       "    <tr>\n",
       "      <th>0</th>\n",
       "      <td>30</td>\n",
       "      <td>1</td>\n",
       "      <td>0</td>\n",
       "      <td>1787</td>\n",
       "      <td>0</td>\n",
       "      <td>0</td>\n",
       "      <td>19</td>\n",
       "      <td>10</td>\n",
       "      <td>79</td>\n",
       "      <td>1</td>\n",
       "      <td>...</td>\n",
       "      <td>0</td>\n",
       "      <td>0</td>\n",
       "      <td>0</td>\n",
       "      <td>0</td>\n",
       "      <td>0</td>\n",
       "      <td>0</td>\n",
       "      <td>1</td>\n",
       "      <td>0</td>\n",
       "      <td>1</td>\n",
       "      <td>0</td>\n",
       "    </tr>\n",
       "    <tr>\n",
       "      <th>1</th>\n",
       "      <td>33</td>\n",
       "      <td>2</td>\n",
       "      <td>0</td>\n",
       "      <td>4789</td>\n",
       "      <td>1</td>\n",
       "      <td>1</td>\n",
       "      <td>11</td>\n",
       "      <td>5</td>\n",
       "      <td>220</td>\n",
       "      <td>1</td>\n",
       "      <td>...</td>\n",
       "      <td>0</td>\n",
       "      <td>0</td>\n",
       "      <td>0</td>\n",
       "      <td>1</td>\n",
       "      <td>0</td>\n",
       "      <td>0</td>\n",
       "      <td>0</td>\n",
       "      <td>0</td>\n",
       "      <td>1</td>\n",
       "      <td>0</td>\n",
       "    </tr>\n",
       "    <tr>\n",
       "      <th>2</th>\n",
       "      <td>35</td>\n",
       "      <td>3</td>\n",
       "      <td>0</td>\n",
       "      <td>1350</td>\n",
       "      <td>1</td>\n",
       "      <td>0</td>\n",
       "      <td>16</td>\n",
       "      <td>4</td>\n",
       "      <td>185</td>\n",
       "      <td>1</td>\n",
       "      <td>...</td>\n",
       "      <td>1</td>\n",
       "      <td>0</td>\n",
       "      <td>0</td>\n",
       "      <td>0</td>\n",
       "      <td>0</td>\n",
       "      <td>0</td>\n",
       "      <td>0</td>\n",
       "      <td>0</td>\n",
       "      <td>0</td>\n",
       "      <td>1</td>\n",
       "    </tr>\n",
       "  </tbody>\n",
       "</table>\n",
       "<p>3 rows × 27 columns</p>\n",
       "</div>"
      ],
      "text/plain": [
       "   age  education  default  balance  housing  loan  day  month  duration  \\\n",
       "0   30          1        0     1787        0     0   19     10        79   \n",
       "1   33          2        0     4789        1     1   11      5       220   \n",
       "2   35          3        0     1350        1     0   16      4       185   \n",
       "\n",
       "   campaign  ...  management  retired  self-employed  services  student  \\\n",
       "0         1  ...           0        0              0         0        0   \n",
       "1         1  ...           0        0              0         1        0   \n",
       "2         1  ...           1        0              0         0        0   \n",
       "\n",
       "   technician  unemployed  divorced  married  single  \n",
       "0           0           1         0        1       0  \n",
       "1           0           0         0        1       0  \n",
       "2           0           0         0        0       1  \n",
       "\n",
       "[3 rows x 27 columns]"
      ]
     },
     "execution_count": 10,
     "metadata": {},
     "output_type": "execute_result"
    }
   ],
   "source": [
    "bank.head(3)"
   ]
  },
  {
   "cell_type": "markdown",
   "id": "c0e728b8",
   "metadata": {},
   "source": [
    "# Train Test Split Data"
   ]
  },
  {
   "cell_type": "code",
   "execution_count": 11,
   "id": "cbb81fe4",
   "metadata": {},
   "outputs": [],
   "source": [
    "X = bank.drop(['y'], axis =1)\n",
    "y = bank['y']\n",
    "X_train, X_test, y_train, y_test = train_test_split(X, y,random_state = 42)"
   ]
  },
  {
   "cell_type": "code",
   "execution_count": null,
   "id": "e7c8e460",
   "metadata": {},
   "outputs": [],
   "source": []
  },
  {
   "cell_type": "code",
   "execution_count": null,
   "id": "6302e5b6",
   "metadata": {},
   "outputs": [],
   "source": []
  },
  {
   "cell_type": "markdown",
   "id": "6ad54bb7",
   "metadata": {},
   "source": [
    "# Logistic Regression"
   ]
  },
  {
   "cell_type": "code",
   "execution_count": 12,
   "id": "b5d5e58f",
   "metadata": {},
   "outputs": [],
   "source": [
    "extractor = SelectFromModel(LogisticRegression(penalty='l1', solver = 'liblinear' ,random_state = 42)) #selects most valuable features\n",
    "selector = make_column_selector(dtype_include=object)  #used in transformer to change all the object cols to one hot\n",
    "transformer = make_column_transformer((OneHotEncoder(drop = 'first'), selector), remainder = StandardScaler()) #changes df to OHE"
   ]
  },
  {
   "cell_type": "code",
   "execution_count": 13,
   "id": "ce4b8662",
   "metadata": {},
   "outputs": [],
   "source": [
    "lgr_pipe = Pipeline([('transformer', transformer), ('selector', extractor),('lgr', LogisticRegression(random_state=42, max_iter = 10000))])\n",
    "t0 = time.time()\n",
    "lgr_pipe.fit(X_train, y_train)\n",
    "t_lgr = time.time() - t0"
   ]
  },
  {
   "cell_type": "code",
   "execution_count": 14,
   "id": "6d687e57",
   "metadata": {},
   "outputs": [],
   "source": [
    "lgr_acc = lgr_pipe.score(X_test, y_test)"
   ]
  },
  {
   "cell_type": "code",
   "execution_count": 15,
   "id": "cdee2729",
   "metadata": {},
   "outputs": [
    {
     "data": {
      "text/plain": [
       "0    0.898887\n",
       "1    0.101113\n",
       "Name: y, dtype: float64"
      ]
     },
     "execution_count": 15,
     "metadata": {},
     "output_type": "execute_result"
    }
   ],
   "source": [
    "y_test.value_counts(normalize = True)"
   ]
  },
  {
   "cell_type": "code",
   "execution_count": 16,
   "id": "4115efcb",
   "metadata": {},
   "outputs": [
    {
     "data": {
      "text/plain": [
       "[<matplotlib.lines.Line2D at 0x2072519ece0>]"
      ]
     },
     "execution_count": 16,
     "metadata": {},
     "output_type": "execute_result"
    },
    {
     "data": {
      "image/png": "[encoded data removed]",
      "text/plain": [
       "<Figure size 2000x600 with 3 Axes>"
      ]
     },
     "metadata": {},
     "output_type": "display_data"
    }
   ],
   "source": [
    "fig, ax = plt.subplots(1, 2, figsize = (20, 6))\n",
    "ConfusionMatrixDisplay.from_estimator(lgr_pipe, X_test, y_test, ax = ax[0])  #confusion matrix and ROC chart maker\n",
    "RocCurveDisplay.from_estimator(lgr_pipe, X_test, y_test, ax = ax[1])\n",
    "ax[1].plot(np.array([0, 1]), np.array([0, 1]))"
   ]
  },
  {
   "cell_type": "code",
   "execution_count": 17,
   "id": "3e6afc8b",
   "metadata": {},
   "outputs": [],
   "source": [
    "no_probs = lgr_pipe.predict_proba(X_test)[:, 0] #select probabilities of 'No' class\n",
    "high_prob_no = no_probs[no_probs > 0.8] # those with a high probability of being no "
   ]
  },
  {
   "cell_type": "code",
   "execution_count": 18,
   "id": "a2fdc119",
   "metadata": {},
   "outputs": [
    {
     "name": "stdout",
     "output_type": "stream",
     "text": [
      "0.9391124871001032\n"
     ]
    }
   ],
   "source": [
    "print(len(high_prob_no)/sum(y_test == 0)) #high percentage are obvious no"
   ]
  },
  {
   "cell_type": "code",
   "execution_count": 19,
   "id": "976b478f",
   "metadata": {},
   "outputs": [],
   "source": [
    "feature_names = lgr_pipe.named_steps['transformer'].get_feature_names_out()    #what features drive the class the most\n",
    "selected_features =feature_names[ [int(i[1:]) for i in lgr_pipe.named_steps['selector'].get_feature_names_out()]]\n",
    "clean_names = [i.split('__')[-1] for i in selected_features]\n",
    "coef_df = pd.DataFrame({'feature': clean_names, 'coefs': lgr_pipe.named_steps['lgr'].coef_[0]})\n",
    "coef_df['coefs'] = coef_df['coefs'].apply(abs)\n",
    "coef_df = coef_df.sort_values(by = 'coefs', ascending = False)"
   ]
  },
  {
   "cell_type": "code",
   "execution_count": 20,
   "id": "2663d94e",
   "metadata": {},
   "outputs": [
    {
     "data": {
      "text/html": [
       "<div>\n",
       "<style scoped>\n",
       "    .dataframe tbody tr th:only-of-type {\n",
       "        vertical-align: middle;\n",
       "    }\n",
       "\n",
       "    .dataframe tbody tr th {\n",
       "        vertical-align: top;\n",
       "    }\n",
       "\n",
       "    .dataframe thead th {\n",
       "        text-align: right;\n",
       "    }\n",
       "</style>\n",
       "<table border=\"1\" class=\"dataframe\">\n",
       "  <thead>\n",
       "    <tr style=\"text-align: right;\">\n",
       "      <th></th>\n",
       "      <th>feature</th>\n",
       "      <th>coefs</th>\n",
       "    </tr>\n",
       "  </thead>\n",
       "  <tbody>\n",
       "    <tr>\n",
       "      <th>8</th>\n",
       "      <td>duration</td>\n",
       "      <td>1.015524</td>\n",
       "    </tr>\n",
       "    <tr>\n",
       "      <th>4</th>\n",
       "      <td>housing</td>\n",
       "      <td>0.370281</td>\n",
       "    </tr>\n",
       "    <tr>\n",
       "      <th>9</th>\n",
       "      <td>campaign</td>\n",
       "      <td>0.294761</td>\n",
       "    </tr>\n",
       "    <tr>\n",
       "      <th>5</th>\n",
       "      <td>loan</td>\n",
       "      <td>0.244363</td>\n",
       "    </tr>\n",
       "    <tr>\n",
       "      <th>10</th>\n",
       "      <td>pdays</td>\n",
       "      <td>0.225390</td>\n",
       "    </tr>\n",
       "    <tr>\n",
       "      <th>1</th>\n",
       "      <td>education</td>\n",
       "      <td>0.189402</td>\n",
       "    </tr>\n",
       "    <tr>\n",
       "      <th>11</th>\n",
       "      <td>previous</td>\n",
       "      <td>0.172669</td>\n",
       "    </tr>\n",
       "    <tr>\n",
       "      <th>17</th>\n",
       "      <td>retired</td>\n",
       "      <td>0.170631</td>\n",
       "    </tr>\n",
       "    <tr>\n",
       "      <th>13</th>\n",
       "      <td>blue-collar</td>\n",
       "      <td>0.143428</td>\n",
       "    </tr>\n",
       "    <tr>\n",
       "      <th>14</th>\n",
       "      <td>entrepreneur</td>\n",
       "      <td>0.123483</td>\n",
       "    </tr>\n",
       "    <tr>\n",
       "      <th>20</th>\n",
       "      <td>student</td>\n",
       "      <td>0.119354</td>\n",
       "    </tr>\n",
       "    <tr>\n",
       "      <th>23</th>\n",
       "      <td>married</td>\n",
       "      <td>0.106956</td>\n",
       "    </tr>\n",
       "    <tr>\n",
       "      <th>21</th>\n",
       "      <td>unemployed</td>\n",
       "      <td>0.099698</td>\n",
       "    </tr>\n",
       "    <tr>\n",
       "      <th>3</th>\n",
       "      <td>balance</td>\n",
       "      <td>0.073318</td>\n",
       "    </tr>\n",
       "    <tr>\n",
       "      <th>19</th>\n",
       "      <td>services</td>\n",
       "      <td>0.067869</td>\n",
       "    </tr>\n",
       "    <tr>\n",
       "      <th>22</th>\n",
       "      <td>divorced</td>\n",
       "      <td>0.053753</td>\n",
       "    </tr>\n",
       "    <tr>\n",
       "      <th>18</th>\n",
       "      <td>self-employed</td>\n",
       "      <td>0.050971</td>\n",
       "    </tr>\n",
       "    <tr>\n",
       "      <th>15</th>\n",
       "      <td>housemaid</td>\n",
       "      <td>0.045851</td>\n",
       "    </tr>\n",
       "    <tr>\n",
       "      <th>12</th>\n",
       "      <td>admin.</td>\n",
       "      <td>0.044517</td>\n",
       "    </tr>\n",
       "    <tr>\n",
       "      <th>2</th>\n",
       "      <td>default</td>\n",
       "      <td>0.044413</td>\n",
       "    </tr>\n",
       "    <tr>\n",
       "      <th>7</th>\n",
       "      <td>month</td>\n",
       "      <td>0.027101</td>\n",
       "    </tr>\n",
       "    <tr>\n",
       "      <th>0</th>\n",
       "      <td>age</td>\n",
       "      <td>0.016064</td>\n",
       "    </tr>\n",
       "    <tr>\n",
       "      <th>16</th>\n",
       "      <td>management</td>\n",
       "      <td>0.008305</td>\n",
       "    </tr>\n",
       "    <tr>\n",
       "      <th>6</th>\n",
       "      <td>day</td>\n",
       "      <td>0.007157</td>\n",
       "    </tr>\n",
       "  </tbody>\n",
       "</table>\n",
       "</div>"
      ],
      "text/plain": [
       "          feature     coefs\n",
       "8        duration  1.015524\n",
       "4         housing  0.370281\n",
       "9        campaign  0.294761\n",
       "5            loan  0.244363\n",
       "10          pdays  0.225390\n",
       "1       education  0.189402\n",
       "11       previous  0.172669\n",
       "17        retired  0.170631\n",
       "13    blue-collar  0.143428\n",
       "14   entrepreneur  0.123483\n",
       "20        student  0.119354\n",
       "23        married  0.106956\n",
       "21     unemployed  0.099698\n",
       "3         balance  0.073318\n",
       "19       services  0.067869\n",
       "22       divorced  0.053753\n",
       "18  self-employed  0.050971\n",
       "15      housemaid  0.045851\n",
       "12         admin.  0.044517\n",
       "2         default  0.044413\n",
       "7           month  0.027101\n",
       "0             age  0.016064\n",
       "16     management  0.008305\n",
       "6             day  0.007157"
      ]
     },
     "execution_count": 20,
     "metadata": {},
     "output_type": "execute_result"
    }
   ],
   "source": [
    "coef_df"
   ]
  },
  {
   "cell_type": "markdown",
   "id": "4d4678ca",
   "metadata": {},
   "source": [
    "We want to score how well the model predicts who is the most likely to subscrive to the term deposit, \n",
    "not punish too much for false positive. Will score by recall=True Positive / (True Positive + False Negative)"
   ]
  },
  {
   "cell_type": "code",
   "execution_count": 21,
   "id": "f9756a85",
   "metadata": {},
   "outputs": [
    {
     "data": {
      "text/plain": [
       "0.5333333333333333"
      ]
     },
     "execution_count": 21,
     "metadata": {},
     "output_type": "execute_result"
    }
   ],
   "source": [
    "lgr_recall = 24 /(24+21)\n",
    "lgr_recall"
   ]
  },
  {
   "cell_type": "markdown",
   "id": "67ca4785",
   "metadata": {},
   "source": [
    "# K-Nearest Naighbors"
   ]
  },
  {
   "cell_type": "code",
   "execution_count": 22,
   "id": "4faf1368",
   "metadata": {},
   "outputs": [
    {
     "data": {
      "image/png": "[encoded data removed]",
      "text/plain": [
       "<Figure size 640x480 with 2 Axes>"
      ]
     },
     "metadata": {},
     "output_type": "display_data"
    }
   ],
   "source": [
    "\n",
    "knn_pipe = Pipeline([('transformer', transformer), ('knn', KNeighborsClassifier(n_neighbors=10))])\n",
    "knn_pipe.fit(X_train, y_train)\n",
    "knn_10_recall = knn_pipe.score(X_test, y_test)\n",
    "base_probs = knn_pipe.predict_proba(X_test)\n",
    "preds = np.where(base_probs[:, 0] > .7)\n",
    "pd.DataFrame(base_probs[:5], columns = ['p_no', 'p_yes'])\n",
    "preds = knn_pipe.predict(X_test)\n",
    "confusion_mat  = confusion_matrix(y_test, preds, labels=knn_pipe.classes_)\n",
    "disp = ConfusionMatrixDisplay(confusion_matrix=confusion_mat ,display_labels = ['no', 'yes'])\n",
    "disp.plot()\n",
    "plt.show()"
   ]
  },
  {
   "cell_type": "code",
   "execution_count": 23,
   "id": "748e8258",
   "metadata": {},
   "outputs": [],
   "source": [
    "min_fp = recall_score(y_test, knn_pipe.predict(X_test))#choose scoring method based on use case, precision_score(), recall_score(), accuracy_score()\n",
    "recall_grid = GridSearchCV(knn_pipe, param_grid = {'knn__n_neighbors': range(1, 23, 2)},scoring = 'recall')\n",
    "t0 = time.time()\n",
    "recall_grid.fit(X_train, y_train)\n",
    "t_knn = time.time() - t0\n",
    "knn_acc = recall_grid.score(X_test, y_test)"
   ]
  },
  {
   "cell_type": "code",
   "execution_count": 24,
   "id": "6fb7486d",
   "metadata": {},
   "outputs": [
    {
     "data": {
      "image/png": "[encoded data removed]",
      "text/plain": [
       "<Figure size 640x480 with 2 Axes>"
      ]
     },
     "metadata": {},
     "output_type": "display_data"
    }
   ],
   "source": [
    "preds = recall_grid.predict(X_test)\n",
    "confusion_mat  = confusion_matrix(y_test, preds, labels=recall_grid.classes_)\n",
    "disp = ConfusionMatrixDisplay(confusion_matrix=confusion_mat ,display_labels = ['no', 'yes'])\n",
    "disp.plot()\n",
    "plt.show()"
   ]
  },
  {
   "cell_type": "code",
   "execution_count": 25,
   "id": "0b5acd70",
   "metadata": {},
   "outputs": [
    {
     "data": {
      "text/plain": [
       "0.34444444444444444"
      ]
     },
     "execution_count": 25,
     "metadata": {},
     "output_type": "execute_result"
    }
   ],
   "source": [
    "knn_recall = 31/(59+31)\n",
    "knn_recall"
   ]
  },
  {
   "cell_type": "code",
   "execution_count": 26,
   "id": "dc292283",
   "metadata": {},
   "outputs": [
    {
     "data": {
      "text/plain": [
       "0.5333333333333333"
      ]
     },
     "execution_count": 26,
     "metadata": {},
     "output_type": "execute_result"
    }
   ],
   "source": [
    "lgr_recall"
   ]
  },
  {
   "cell_type": "code",
   "execution_count": 27,
   "id": "26fc50ea",
   "metadata": {},
   "outputs": [],
   "source": [
    "knn_acc = (910+31)/(910+31+78+59)"
   ]
  },
  {
   "cell_type": "markdown",
   "id": "d0dfaf73",
   "metadata": {},
   "source": [
    "# Support vector machine"
   ]
  },
  {
   "cell_type": "code",
   "execution_count": 28,
   "id": "98742eb7",
   "metadata": {},
   "outputs": [],
   "source": [
    "svc = SVC().fit(X_train, y_train) #default kernel is rbf\n",
    "svc_defaults = svc.score(X_test, y_test)"
   ]
  },
  {
   "cell_type": "code",
   "execution_count": 29,
   "id": "f23ee2a8",
   "metadata": {},
   "outputs": [
    {
     "data": {
      "image/png": "[encoded data removed]",
      "text/plain": [
       "<Figure size 640x480 with 2 Axes>"
      ]
     },
     "metadata": {},
     "output_type": "display_data"
    }
   ],
   "source": [
    "preds = svc.predict(X_test)\n",
    "confusion_mat  = confusion_matrix(y_test, preds, labels=recall_grid.classes_)\n",
    "disp = ConfusionMatrixDisplay(confusion_matrix=confusion_mat ,display_labels = ['no', 'yes'])\n",
    "disp.plot()\n",
    "plt.show()"
   ]
  },
  {
   "cell_type": "code",
   "execution_count": null,
   "id": "7fb2daee",
   "metadata": {},
   "outputs": [],
   "source": []
  },
  {
   "cell_type": "code",
   "execution_count": 30,
   "id": "c3bc250d",
   "metadata": {},
   "outputs": [],
   "source": [
    "params = {'kernel': ['rbf'], #tried each 'poly', 'linear', 'sigmoid' individuall, rbf gave best score\n",
    "         'gamma': [.0001,.00001,.000001,.0000001,.0000000001],}"
   ]
  },
  {
   "cell_type": "code",
   "execution_count": 31,
   "id": "87272596",
   "metadata": {},
   "outputs": [],
   "source": [
    "grid = GridSearchCV(svc, param_grid=params,scoring = 'recall')"
   ]
  },
  {
   "cell_type": "code",
   "execution_count": 32,
   "id": "1db7b0f0",
   "metadata": {},
   "outputs": [],
   "source": [
    "t0 = time.time()\n",
    "grid.fit(X_train, y_train)\n",
    "t_svc = time.time() - t0"
   ]
  },
  {
   "cell_type": "code",
   "execution_count": 33,
   "id": "093d82e7",
   "metadata": {},
   "outputs": [
    {
     "name": "stdout",
     "output_type": "stream",
     "text": [
      "0.09174311926605505\n",
      "rbf\n"
     ]
    }
   ],
   "source": [
    "svc_acc = grid_score = grid.score(X_test, y_test)\n",
    "best_kernel = grid.best_params_['kernel']\n",
    "print(grid_score)\n",
    "print(best_kernel)"
   ]
  },
  {
   "cell_type": "code",
   "execution_count": 34,
   "id": "317e2cab",
   "metadata": {},
   "outputs": [
    {
     "data": {
      "image/png": "[encoded data removed]",
      "text/plain": [
       "<Figure size 640x480 with 2 Axes>"
      ]
     },
     "metadata": {},
     "output_type": "display_data"
    }
   ],
   "source": [
    "preds = grid.predict(X_test)\n",
    "confusion_mat  = confusion_matrix(y_test, preds, labels=recall_grid.classes_)\n",
    "disp = ConfusionMatrixDisplay(confusion_matrix=confusion_mat ,display_labels = ['no', 'yes'])\n",
    "disp.plot()\n",
    "plt.show()"
   ]
  },
  {
   "cell_type": "code",
   "execution_count": 35,
   "id": "1e1d3224",
   "metadata": {},
   "outputs": [],
   "source": [
    "svc_acc = grid_score\n",
    "svc_recall = 8/(8+10)"
   ]
  },
  {
   "cell_type": "code",
   "execution_count": null,
   "id": "a5dfe5d8",
   "metadata": {},
   "outputs": [],
   "source": []
  },
  {
   "cell_type": "markdown",
   "id": "da4a3609",
   "metadata": {},
   "source": [
    "# Decision Tree"
   ]
  },
  {
   "cell_type": "code",
   "execution_count": 36,
   "id": "b7b3a3ad",
   "metadata": {},
   "outputs": [],
   "source": [
    "dtree = DecisionTreeClassifier(random_state=42, min_samples_split=0.05, max_depth=5, min_impurity_decrease=0.01).fit(X_train, y_train) #edit all these parameters for best accuracy without overfitting\n",
    "train_acc = dtree.score(X_train, y_train)\n",
    "test_acc = dtree.score(X_test, y_test)"
   ]
  },
  {
   "cell_type": "code",
   "execution_count": 37,
   "id": "464cfd73",
   "metadata": {},
   "outputs": [
    {
     "data": {
      "image/png": "[encoded data removed]",
      "text/plain": [
       "<Figure size 640x480 with 2 Axes>"
      ]
     },
     "metadata": {},
     "output_type": "display_data"
    }
   ],
   "source": [
    "preds = dtree.predict(X_test)\n",
    "confusion_mat  = confusion_matrix(y_test, preds, labels=recall_grid.classes_)\n",
    "disp = ConfusionMatrixDisplay(confusion_matrix=confusion_mat ,display_labels = ['no', 'yes'])\n",
    "disp.plot()\n",
    "plt.show()"
   ]
  },
  {
   "cell_type": "code",
   "execution_count": 38,
   "id": "4a651739",
   "metadata": {},
   "outputs": [
    {
     "name": "stdout",
     "output_type": "stream",
     "text": [
      "Training Accuracy:  0.36\n",
      "Trest Accuracy:  0.32\n",
      "Best parameters of tree: {'max_depth': 2, 'min_impurity_decrease': 0.01, 'min_samples_split': 0.1}\n"
     ]
    }
   ],
   "source": [
    "params = {'min_impurity_decrease': [0.01, 0.02, 0.03, 0.05],\n",
    "         'max_depth': [2, 3,4,5,7, 10],\n",
    "         'min_samples_split': [0.1, 0.2, 0.05]}\n",
    "grid = GridSearchCV(DecisionTreeClassifier(random_state = 42), param_grid=params,scoring = 'recall')\n",
    "t0 = time.time()\n",
    "grid.fit(X_train, y_train)\n",
    "t_dtree = time.time() - t0\n",
    "grid_train_acc = grid.score(X_train, y_train)\n",
    "grid_test_acc = grid.score(X_test, y_test)\n",
    "best_params = grid.best_params_\n",
    "print(f'Training Accuracy: {grid_train_acc: .2f}')\n",
    "print(f'Trest Accuracy: {grid_test_acc: .2f}')\n",
    "print(f'Best parameters of tree: {best_params}')"
   ]
  },
  {
   "cell_type": "code",
   "execution_count": 39,
   "id": "1cad7cee",
   "metadata": {},
   "outputs": [
    {
     "data": {
      "image/png": "[encoded data removed]",
      "text/plain": [
       "<Figure size 500x500 with 1 Axes>"
      ]
     },
     "metadata": {},
     "output_type": "display_data"
    }
   ],
   "source": [
    "tree_best = DecisionTreeClassifier(max_depth = 2, min_impurity_decrease = .01 , min_samples_split = .1).fit(X, y)\n",
    "fig, ax = plt.subplots(figsize = (5, 5))\n",
    "plot_tree(tree_best, feature_names=list(X.columns), filled=True, ax = ax, fontsize=8);"
   ]
  },
  {
   "cell_type": "code",
   "execution_count": 40,
   "id": "ee6761ec",
   "metadata": {},
   "outputs": [
    {
     "data": {
      "image/png": "[encoded data removed]",
      "text/plain": [
       "<Figure size 640x480 with 2 Axes>"
      ]
     },
     "metadata": {},
     "output_type": "display_data"
    }
   ],
   "source": [
    "preds = tree_best.predict(X_test)\n",
    "confusion_mat  = confusion_matrix(y_test, preds, labels=recall_grid.classes_)\n",
    "disp = ConfusionMatrixDisplay(confusion_matrix=confusion_mat ,display_labels = ['no', 'yes'])\n",
    "disp.plot()\n",
    "plt.show()"
   ]
  },
  {
   "cell_type": "code",
   "execution_count": 41,
   "id": "fe380ac6",
   "metadata": {},
   "outputs": [],
   "source": [
    "dtree_acc = tree_best.score(X_test, y_test)\n",
    "dtree_acc\n",
    "dtree_recall = 35/(35+36)"
   ]
  },
  {
   "cell_type": "code",
   "execution_count": null,
   "id": "c9c202b5",
   "metadata": {},
   "outputs": [],
   "source": []
  },
  {
   "cell_type": "markdown",
   "id": "3e6ca8eb",
   "metadata": {},
   "source": [
    "# Analysis of model performance based on use case"
   ]
  },
  {
   "cell_type": "markdown",
   "id": "7b8070bd",
   "metadata": {},
   "source": [
    "Pulling all of the data together from the parameter grid-searched models, we can get the dataframe below: "
   ]
  },
  {
   "cell_type": "code",
   "execution_count": 42,
   "id": "11d41395",
   "metadata": {},
   "outputs": [
    {
     "data": {
      "text/html": [
       "<div>\n",
       "<style scoped>\n",
       "    .dataframe tbody tr th:only-of-type {\n",
       "        vertical-align: middle;\n",
       "    }\n",
       "\n",
       "    .dataframe tbody tr th {\n",
       "        vertical-align: top;\n",
       "    }\n",
       "\n",
       "    .dataframe thead th {\n",
       "        text-align: right;\n",
       "    }\n",
       "</style>\n",
       "<table border=\"1\" class=\"dataframe\">\n",
       "  <thead>\n",
       "    <tr style=\"text-align: right;\">\n",
       "      <th></th>\n",
       "      <th>model</th>\n",
       "      <th>Precision</th>\n",
       "      <th>recall</th>\n",
       "      <th>average fit time</th>\n",
       "    </tr>\n",
       "  </thead>\n",
       "  <tbody>\n",
       "    <tr>\n",
       "      <th>0</th>\n",
       "      <td>KNN</td>\n",
       "      <td>0.872913</td>\n",
       "      <td>0.344444</td>\n",
       "      <td>8.632777</td>\n",
       "    </tr>\n",
       "    <tr>\n",
       "      <th>1</th>\n",
       "      <td>Logistic Regression</td>\n",
       "      <td>0.901670</td>\n",
       "      <td>0.533333</td>\n",
       "      <td>0.093770</td>\n",
       "    </tr>\n",
       "    <tr>\n",
       "      <th>2</th>\n",
       "      <td>SVC</td>\n",
       "      <td>0.091743</td>\n",
       "      <td>0.444444</td>\n",
       "      <td>10.116461</td>\n",
       "    </tr>\n",
       "    <tr>\n",
       "      <th>3</th>\n",
       "      <td>Dtree</td>\n",
       "      <td>0.897959</td>\n",
       "      <td>0.492958</td>\n",
       "      <td>5.696604</td>\n",
       "    </tr>\n",
       "  </tbody>\n",
       "</table>\n",
       "</div>"
      ],
      "text/plain": [
       "                 model  Precision    recall  average fit time\n",
       "0                  KNN   0.872913  0.344444          8.632777\n",
       "1  Logistic Regression   0.901670  0.533333          0.093770\n",
       "2                  SVC   0.091743  0.444444         10.116461\n",
       "3                Dtree   0.897959  0.492958          5.696604"
      ]
     },
     "execution_count": 42,
     "metadata": {},
     "output_type": "execute_result"
    }
   ],
   "source": [
    "lst = [['KNN', knn_acc,knn_recall,t_knn], ['Logistic Regression', lgr_acc,lgr_recall,t_lgr ],\n",
    "       ['SVC',svc_acc,svc_recall, t_svc], ['Dtree',dtree_acc, dtree_recall, t_dtree ]]\n",
    "df = pd.DataFrame(lst, columns =['model', 'Precision','recall', 'average fit time'])\n",
    "df"
   ]
  },
  {
   "cell_type": "markdown",
   "id": "af5b4f6a",
   "metadata": {},
   "source": [
    "From this data, we see that all models have similar accuracy in thier predictions, but Logistic Regression shows a higher \n",
    "recall score. Recall is a better indicatior for this use case because the data is not balanced and the idea of a false positive \n",
    "is better than a false negative. In other words, we want to know the kinds of customers that are subscribed a term deposit\n",
    "and less focused on the kind of customer that is not. "
   ]
  },
  {
   "cell_type": "markdown",
   "id": "58222249",
   "metadata": {},
   "source": [
    "Looking into the Logistic Regression model, we can pull out which features are the most telling whether the customer is\n",
    "subscribed to the term deposit by examining the weight of thier coefficents."
   ]
  },
  {
   "cell_type": "code",
   "execution_count": 44,
   "id": "a983482b",
   "metadata": {},
   "outputs": [
    {
     "data": {
      "text/html": [
       "<div>\n",
       "<style scoped>\n",
       "    .dataframe tbody tr th:only-of-type {\n",
       "        vertical-align: middle;\n",
       "    }\n",
       "\n",
       "    .dataframe tbody tr th {\n",
       "        vertical-align: top;\n",
       "    }\n",
       "\n",
       "    .dataframe thead th {\n",
       "        text-align: right;\n",
       "    }\n",
       "</style>\n",
       "<table border=\"1\" class=\"dataframe\">\n",
       "  <thead>\n",
       "    <tr style=\"text-align: right;\">\n",
       "      <th></th>\n",
       "      <th>feature</th>\n",
       "      <th>coefs</th>\n",
       "    </tr>\n",
       "  </thead>\n",
       "  <tbody>\n",
       "    <tr>\n",
       "      <th>8</th>\n",
       "      <td>duration</td>\n",
       "      <td>1.015524</td>\n",
       "    </tr>\n",
       "    <tr>\n",
       "      <th>4</th>\n",
       "      <td>housing</td>\n",
       "      <td>0.370281</td>\n",
       "    </tr>\n",
       "    <tr>\n",
       "      <th>9</th>\n",
       "      <td>campaign</td>\n",
       "      <td>0.294761</td>\n",
       "    </tr>\n",
       "    <tr>\n",
       "      <th>5</th>\n",
       "      <td>loan</td>\n",
       "      <td>0.244363</td>\n",
       "    </tr>\n",
       "    <tr>\n",
       "      <th>10</th>\n",
       "      <td>pdays</td>\n",
       "      <td>0.225390</td>\n",
       "    </tr>\n",
       "    <tr>\n",
       "      <th>1</th>\n",
       "      <td>education</td>\n",
       "      <td>0.189402</td>\n",
       "    </tr>\n",
       "    <tr>\n",
       "      <th>11</th>\n",
       "      <td>previous</td>\n",
       "      <td>0.172669</td>\n",
       "    </tr>\n",
       "    <tr>\n",
       "      <th>17</th>\n",
       "      <td>retired</td>\n",
       "      <td>0.170631</td>\n",
       "    </tr>\n",
       "    <tr>\n",
       "      <th>13</th>\n",
       "      <td>blue-collar</td>\n",
       "      <td>0.143428</td>\n",
       "    </tr>\n",
       "    <tr>\n",
       "      <th>14</th>\n",
       "      <td>entrepreneur</td>\n",
       "      <td>0.123483</td>\n",
       "    </tr>\n",
       "    <tr>\n",
       "      <th>20</th>\n",
       "      <td>student</td>\n",
       "      <td>0.119354</td>\n",
       "    </tr>\n",
       "    <tr>\n",
       "      <th>23</th>\n",
       "      <td>married</td>\n",
       "      <td>0.106956</td>\n",
       "    </tr>\n",
       "    <tr>\n",
       "      <th>21</th>\n",
       "      <td>unemployed</td>\n",
       "      <td>0.099698</td>\n",
       "    </tr>\n",
       "    <tr>\n",
       "      <th>3</th>\n",
       "      <td>balance</td>\n",
       "      <td>0.073318</td>\n",
       "    </tr>\n",
       "    <tr>\n",
       "      <th>19</th>\n",
       "      <td>services</td>\n",
       "      <td>0.067869</td>\n",
       "    </tr>\n",
       "    <tr>\n",
       "      <th>22</th>\n",
       "      <td>divorced</td>\n",
       "      <td>0.053753</td>\n",
       "    </tr>\n",
       "    <tr>\n",
       "      <th>18</th>\n",
       "      <td>self-employed</td>\n",
       "      <td>0.050971</td>\n",
       "    </tr>\n",
       "    <tr>\n",
       "      <th>15</th>\n",
       "      <td>housemaid</td>\n",
       "      <td>0.045851</td>\n",
       "    </tr>\n",
       "    <tr>\n",
       "      <th>12</th>\n",
       "      <td>admin.</td>\n",
       "      <td>0.044517</td>\n",
       "    </tr>\n",
       "    <tr>\n",
       "      <th>2</th>\n",
       "      <td>default</td>\n",
       "      <td>0.044413</td>\n",
       "    </tr>\n",
       "    <tr>\n",
       "      <th>7</th>\n",
       "      <td>month</td>\n",
       "      <td>0.027101</td>\n",
       "    </tr>\n",
       "    <tr>\n",
       "      <th>0</th>\n",
       "      <td>age</td>\n",
       "      <td>0.016064</td>\n",
       "    </tr>\n",
       "    <tr>\n",
       "      <th>16</th>\n",
       "      <td>management</td>\n",
       "      <td>0.008305</td>\n",
       "    </tr>\n",
       "    <tr>\n",
       "      <th>6</th>\n",
       "      <td>day</td>\n",
       "      <td>0.007157</td>\n",
       "    </tr>\n",
       "  </tbody>\n",
       "</table>\n",
       "</div>"
      ],
      "text/plain": [
       "          feature     coefs\n",
       "8        duration  1.015524\n",
       "4         housing  0.370281\n",
       "9        campaign  0.294761\n",
       "5            loan  0.244363\n",
       "10          pdays  0.225390\n",
       "1       education  0.189402\n",
       "11       previous  0.172669\n",
       "17        retired  0.170631\n",
       "13    blue-collar  0.143428\n",
       "14   entrepreneur  0.123483\n",
       "20        student  0.119354\n",
       "23        married  0.106956\n",
       "21     unemployed  0.099698\n",
       "3         balance  0.073318\n",
       "19       services  0.067869\n",
       "22       divorced  0.053753\n",
       "18  self-employed  0.050971\n",
       "15      housemaid  0.045851\n",
       "12         admin.  0.044517\n",
       "2         default  0.044413\n",
       "7           month  0.027101\n",
       "0             age  0.016064\n",
       "16     management  0.008305\n",
       "6             day  0.007157"
      ]
     },
     "execution_count": 44,
     "metadata": {},
     "output_type": "execute_result"
    }
   ],
   "source": [
    "coef_df"
   ]
  },
  {
   "cell_type": "markdown",
   "id": "55217b08",
   "metadata": {},
   "source": [
    "From this useful observations can be made. the top 4 indicators of term deposit subscribers are those who: \n",
    "    1. spent a long time on the phone with a marketing rep, kind of an obvious one. \n",
    "    2. Those with housing loans\n",
    "    3. Those who had been contacted multiple times by marketing reps\n",
    "    4. Those with personal loans\n",
    "The bottom group of indicators can also be useful: \n",
    "    1. day & month\n",
    "    2. age\n",
    "    3. those who defaulted on loans\n"
   ]
  },
  {
   "cell_type": "markdown",
   "id": "99c14c20",
   "metadata": {},
   "source": [
    "From these 2 groups, several recomendations can be made to this marketing campaign. \n",
    "    1. Push the term deposit more to customers with housing loans & personal loans.\n",
    "    2. Contact customers multiple times.\n",
    "    3. The age of the customer has little affect on if they will sign up. \n",
    "    4. Those who have defaulted on loans are stilll open to the term deposit service. \n",
    "    5. the day and month of the call have little affect on making the sale. "
   ]
  },
  {
   "cell_type": "code",
   "execution_count": null,
   "id": "d5baa758",
   "metadata": {},
   "outputs": [],
   "source": []
  }
 ],
 "metadata": {
  "kernelspec": {
   "display_name": "Python 3 (ipykernel)",
   "language": "python",
   "name": "python3"
  },
  "language_info": {
   "codemirror_mode": {
    "name": "ipython",
    "version": 3
   },
   "file_extension": ".py",
   "mimetype": "text/x-python",
   "name": "python",
   "nbconvert_exporter": "python",
   "pygments_lexer": "ipython3",
   "version": "3.10.9"
  }
 },
 "nbformat": 4,
 "nbformat_minor": 5
}
